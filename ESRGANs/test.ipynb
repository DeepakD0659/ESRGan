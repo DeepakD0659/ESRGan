{
 "cells": [
  {
   "cell_type": "code",
   "execution_count": 4,
   "metadata": {},
   "outputs": [
    {
     "name": "stdout",
     "output_type": "stream",
     "text": [
      "Model path: models/RRDB_ESRGAN_x4.pth. \n",
      "Testing...\n"
     ]
    }
   ],
   "source": [
    "import os\n",
    "import glob\n",
    "import cv2\n",
    "import numpy as np\n",
    "import torch\n",
    "import RRDBNet_arch as arch\n",
    "import sys\n",
    "\n",
    "# Check if we're running in a Jupyter environment\n",
    "if 'ipykernel' in sys.modules:\n",
    "    # Running in Jupyter, use predefined arguments\n",
    "    args = {\n",
    "        'model_path': 'models/RRDB_ESRGAN_x4.pth',\n",
    "        'input_path': 'LR/*',\n",
    "        'output_path': 'results'\n",
    "    }\n",
    "else:\n",
    "    # Use argparse if not in Jupyter\n",
    "    import argparse\n",
    "    parser = argparse.ArgumentParser(description=\"Super-Resolution using RRDBNet\")\n",
    "    parser.add_argument('--model_path', type=str, default='models/RRDB_ESRGAN_x4.pth', help=\"Path to the pre-trained model.\")\n",
    "    parser.add_argument('--input_path', type=str, default='LR/*', help=\"Path to the low-resolution images.\")\n",
    "    parser.add_argument('--output_path', type=str, default='results', help=\"Directory to store the super-resolved images.\")\n",
    "    args = parser.parse_args()\n",
    "\n",
    "device = torch.device('cuda' if torch.cuda.is_available() else 'cpu')  # Device selection (CUDA or CPU)\n",
    "\n",
    "# Initialize the model\n",
    "model = arch.RRDBNet(3, 3, 64, 23, gc=32)  # Initialize the RRDBNet model\n",
    "model.load_state_dict(torch.load(args['model_path']), strict=True)  # Load the model weights\n",
    "model.eval()  # Set the model to evaluation mode\n",
    "model = model.to(device)  # Move the model to the chosen device (GPU/CPU)\n",
    "\n",
    "print(f'Model path: {args[\"model_path\"]}. \\nTesting...')\n",
    "\n",
    "# Ensure output directory exists\n",
    "os.makedirs(args['output_path'], exist_ok=True)\n",
    "\n",
    "# Iterate over all test images\n",
    "idx = 0\n",
    "for path in glob.glob(args['input_path']):  # Use input path from the command-line argument\n",
    "    idx += 1\n",
    "    base = os.path.splitext(os.path.basename(path))[0]  # Extract the base name of the image file\n",
    "    print(f'{idx} - {base}')\n",
    "    \n",
    "    # Read image\n",
    "    img = cv2.imread(path, cv2.IMREAD_COLOR)  # Read the image in color\n",
    "    img = img * 1.0 / 255  # Normalize to [0, 1] range\n",
    "    img = torch.from_numpy(np.transpose(img[:, :, [2, 1, 0]], (2, 0, 1))).float()  # Convert to tensor and change channels to RGB\n",
    "    img_LR = img.unsqueeze(0)  # Add batch dimension\n",
    "    img_LR = img_LR.to(device)  # Move the image to the device (GPU/CPU)\n",
    "\n",
    "    # Run the model with no gradient calculation (for testing)\n",
    "    with torch.no_grad():\n",
    "        output = model(img_LR).data.squeeze().float().cpu().clamp_(0, 1).numpy()  # Get the output and move it to CPU\n",
    "    output = np.transpose(output[[2, 1, 0], :, :], (1, 2, 0))  # Convert from CHW to HWC format\n",
    "    output = (output * 255.0).round()  # Rescale to [0, 255] and round to nearest integer\n",
    "    \n",
    "    # Save the super-resolved image to the specified output directory\n",
    "    output_path = os.path.join(args['result'], f'{base}_rlt.png')\n",
    "    cv2.imwrite(output_path, output)  # Save the result\n",
    "    print(f'Saved super-resolved image: {output_path}')\n"
   ]
  }
 ],
 "metadata": {
  "kernelspec": {
   "display_name": "Python 3",
   "language": "python",
   "name": "python3"
  },
  "language_info": {
   "codemirror_mode": {
    "name": "ipython",
    "version": 3
   },
   "file_extension": ".py",
   "mimetype": "text/x-python",
   "name": "python",
   "nbconvert_exporter": "python",
   "pygments_lexer": "ipython3",
   "version": "3.9.13"
  }
 },
 "nbformat": 4,
 "nbformat_minor": 2
}
